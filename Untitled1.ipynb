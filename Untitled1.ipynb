{
  "nbformat": 4,
  "nbformat_minor": 0,
  "metadata": {
    "colab": {
      "provenance": [],
      "mount_file_id": "1mWIRhBEN5NiBLkaHNz60wLzucC6MSTAf",
      "authorship_tag": "ABX9TyMbDoeLXSM5BJdMnS0EyERC",
      "include_colab_link": true
    },
    "kernelspec": {
      "name": "python3",
      "display_name": "Python 3"
    },
    "language_info": {
      "name": "python"
    }
  },
  "cells": [
    {
      "cell_type": "markdown",
      "metadata": {
        "id": "view-in-github",
        "colab_type": "text"
      },
      "source": [
        "<a href=\"https://colab.research.google.com/github/ESHWARGOUD2005/lab-exam-/blob/main/Untitled1.ipynb\" target=\"_parent\"><img src=\"https://colab.research.google.com/assets/colab-badge.svg\" alt=\"Open In Colab\"/></a>"
      ]
    },
    {
      "cell_type": "markdown",
      "source": [],
      "metadata": {
        "id": "Ne3ezSqQ-yS6"
      }
    },
    {
      "cell_type": "code",
      "source": [
        "#import necessary liberates\n",
        "import pandas as pd"
      ],
      "metadata": {
        "id": "XuCuKFjoLYIa"
      },
      "execution_count": null,
      "outputs": []
    },
    {
      "cell_type": "code",
      "source": [
        "from os import path\n",
        "df=pd.read_excel('/content/drive/MyDrive/ODD (2).xlsx')"
      ],
      "metadata": {
        "id": "PQg05Lt8y2le"
      },
      "execution_count": null,
      "outputs": []
    },
    {
      "cell_type": "code",
      "source": [],
      "metadata": {
        "id": "kxpDnLp9zNM_"
      },
      "execution_count": null,
      "outputs": []
    },
    {
      "cell_type": "code",
      "source": [
        "df.head()"
      ],
      "metadata": {
        "colab": {
          "base_uri": "https://localhost:8080/",
          "height": 347
        },
        "id": "5Nl24ac_zhGW",
        "outputId": "12573590-b786-4084-afda-d6346dce2b02"
      },
      "execution_count": null,
      "outputs": [
        {
          "output_type": "execute_result",
          "data": {
            "text/plain": [
              "  Booking_ID Customer_ID Destination             Travel_Dates Booking_Date  \\\n",
              "0   BKG01438    CUST5663   BANGALORE  2024-05-27 - 2025-06-02   2023-07-26   \n",
              "1   BKG02701    CUST4963     Vietnam  2024/05/02 / 2025/06/28   2024-02-05   \n",
              "2   BKG03648    cust5625       Tokyo  2023-12-02 - 2025-03-09   2024-07-17   \n",
              "3   BKG02513    CUST4246       Delhi  2023-11-10 - 2024-09-13   2024-03-15   \n",
              "4   bkg02903    CUST3901     Chennai  2023-11-09 - 2024-08-22   2023-04-09   \n",
              "\n",
              "   Number_of_Travelers Travel_Package Payment_Method  Total_Cost  \\\n",
              "0                  3.0        Premium     Debit Card    41695.84   \n",
              "1                  3.0       Standard    Credit Card    36619.85   \n",
              "2                  2.0            NaN            NaN    44543.87   \n",
              "3                  6.0         Luxury    Credit Card    41053.94   \n",
              "4                  3.0         Luxury         PayPal    36238.26   \n",
              "\n",
              "            Travel_Agent                                  Customer_Feedback  \n",
              "0               Bass Inc  Power matter brother guy. Out adult perhaps ge...  \n",
              "1             Wood Group  Position call within size than couple. Effect ...  \n",
              "2        Bridges-Collins                                                NaN  \n",
              "3  Edwards, Hill and Lee                                                NaN  \n",
              "4              Hardy Inc                                                NaN  "
            ],
            "text/html": [
              "\n",
              "  <div id=\"df-4bc7250f-8669-4945-b2fa-38860713cf13\" class=\"colab-df-container\">\n",
              "    <div>\n",
              "<style scoped>\n",
              "    .dataframe tbody tr th:only-of-type {\n",
              "        vertical-align: middle;\n",
              "    }\n",
              "\n",
              "    .dataframe tbody tr th {\n",
              "        vertical-align: top;\n",
              "    }\n",
              "\n",
              "    .dataframe thead th {\n",
              "        text-align: right;\n",
              "    }\n",
              "</style>\n",
              "<table border=\"1\" class=\"dataframe\">\n",
              "  <thead>\n",
              "    <tr style=\"text-align: right;\">\n",
              "      <th></th>\n",
              "      <th>Booking_ID</th>\n",
              "      <th>Customer_ID</th>\n",
              "      <th>Destination</th>\n",
              "      <th>Travel_Dates</th>\n",
              "      <th>Booking_Date</th>\n",
              "      <th>Number_of_Travelers</th>\n",
              "      <th>Travel_Package</th>\n",
              "      <th>Payment_Method</th>\n",
              "      <th>Total_Cost</th>\n",
              "      <th>Travel_Agent</th>\n",
              "      <th>Customer_Feedback</th>\n",
              "    </tr>\n",
              "  </thead>\n",
              "  <tbody>\n",
              "    <tr>\n",
              "      <th>0</th>\n",
              "      <td>BKG01438</td>\n",
              "      <td>CUST5663</td>\n",
              "      <td>BANGALORE</td>\n",
              "      <td>2024-05-27 - 2025-06-02</td>\n",
              "      <td>2023-07-26</td>\n",
              "      <td>3.0</td>\n",
              "      <td>Premium</td>\n",
              "      <td>Debit Card</td>\n",
              "      <td>41695.84</td>\n",
              "      <td>Bass Inc</td>\n",
              "      <td>Power matter brother guy. Out adult perhaps ge...</td>\n",
              "    </tr>\n",
              "    <tr>\n",
              "      <th>1</th>\n",
              "      <td>BKG02701</td>\n",
              "      <td>CUST4963</td>\n",
              "      <td>Vietnam</td>\n",
              "      <td>2024/05/02 / 2025/06/28</td>\n",
              "      <td>2024-02-05</td>\n",
              "      <td>3.0</td>\n",
              "      <td>Standard</td>\n",
              "      <td>Credit Card</td>\n",
              "      <td>36619.85</td>\n",
              "      <td>Wood Group</td>\n",
              "      <td>Position call within size than couple. Effect ...</td>\n",
              "    </tr>\n",
              "    <tr>\n",
              "      <th>2</th>\n",
              "      <td>BKG03648</td>\n",
              "      <td>cust5625</td>\n",
              "      <td>Tokyo</td>\n",
              "      <td>2023-12-02 - 2025-03-09</td>\n",
              "      <td>2024-07-17</td>\n",
              "      <td>2.0</td>\n",
              "      <td>NaN</td>\n",
              "      <td>NaN</td>\n",
              "      <td>44543.87</td>\n",
              "      <td>Bridges-Collins</td>\n",
              "      <td>NaN</td>\n",
              "    </tr>\n",
              "    <tr>\n",
              "      <th>3</th>\n",
              "      <td>BKG02513</td>\n",
              "      <td>CUST4246</td>\n",
              "      <td>Delhi</td>\n",
              "      <td>2023-11-10 - 2024-09-13</td>\n",
              "      <td>2024-03-15</td>\n",
              "      <td>6.0</td>\n",
              "      <td>Luxury</td>\n",
              "      <td>Credit Card</td>\n",
              "      <td>41053.94</td>\n",
              "      <td>Edwards, Hill and Lee</td>\n",
              "      <td>NaN</td>\n",
              "    </tr>\n",
              "    <tr>\n",
              "      <th>4</th>\n",
              "      <td>bkg02903</td>\n",
              "      <td>CUST3901</td>\n",
              "      <td>Chennai</td>\n",
              "      <td>2023-11-09 - 2024-08-22</td>\n",
              "      <td>2023-04-09</td>\n",
              "      <td>3.0</td>\n",
              "      <td>Luxury</td>\n",
              "      <td>PayPal</td>\n",
              "      <td>36238.26</td>\n",
              "      <td>Hardy Inc</td>\n",
              "      <td>NaN</td>\n",
              "    </tr>\n",
              "  </tbody>\n",
              "</table>\n",
              "</div>\n",
              "    <div class=\"colab-df-buttons\">\n",
              "\n",
              "  <div class=\"colab-df-container\">\n",
              "    <button class=\"colab-df-convert\" onclick=\"convertToInteractive('df-4bc7250f-8669-4945-b2fa-38860713cf13')\"\n",
              "            title=\"Convert this dataframe to an interactive table.\"\n",
              "            style=\"display:none;\">\n",
              "\n",
              "  <svg xmlns=\"http://www.w3.org/2000/svg\" height=\"24px\" viewBox=\"0 -960 960 960\">\n",
              "    <path d=\"M120-120v-720h720v720H120Zm60-500h600v-160H180v160Zm220 220h160v-160H400v160Zm0 220h160v-160H400v160ZM180-400h160v-160H180v160Zm440 0h160v-160H620v160ZM180-180h160v-160H180v160Zm440 0h160v-160H620v160Z\"/>\n",
              "  </svg>\n",
              "    </button>\n",
              "\n",
              "  <style>\n",
              "    .colab-df-container {\n",
              "      display:flex;\n",
              "      gap: 12px;\n",
              "    }\n",
              "\n",
              "    .colab-df-convert {\n",
              "      background-color: #E8F0FE;\n",
              "      border: none;\n",
              "      border-radius: 50%;\n",
              "      cursor: pointer;\n",
              "      display: none;\n",
              "      fill: #1967D2;\n",
              "      height: 32px;\n",
              "      padding: 0 0 0 0;\n",
              "      width: 32px;\n",
              "    }\n",
              "\n",
              "    .colab-df-convert:hover {\n",
              "      background-color: #E2EBFA;\n",
              "      box-shadow: 0px 1px 2px rgba(60, 64, 67, 0.3), 0px 1px 3px 1px rgba(60, 64, 67, 0.15);\n",
              "      fill: #174EA6;\n",
              "    }\n",
              "\n",
              "    .colab-df-buttons div {\n",
              "      margin-bottom: 4px;\n",
              "    }\n",
              "\n",
              "    [theme=dark] .colab-df-convert {\n",
              "      background-color: #3B4455;\n",
              "      fill: #D2E3FC;\n",
              "    }\n",
              "\n",
              "    [theme=dark] .colab-df-convert:hover {\n",
              "      background-color: #434B5C;\n",
              "      box-shadow: 0px 1px 3px 1px rgba(0, 0, 0, 0.15);\n",
              "      filter: drop-shadow(0px 1px 2px rgba(0, 0, 0, 0.3));\n",
              "      fill: #FFFFFF;\n",
              "    }\n",
              "  </style>\n",
              "\n",
              "    <script>\n",
              "      const buttonEl =\n",
              "        document.querySelector('#df-4bc7250f-8669-4945-b2fa-38860713cf13 button.colab-df-convert');\n",
              "      buttonEl.style.display =\n",
              "        google.colab.kernel.accessAllowed ? 'block' : 'none';\n",
              "\n",
              "      async function convertToInteractive(key) {\n",
              "        const element = document.querySelector('#df-4bc7250f-8669-4945-b2fa-38860713cf13');\n",
              "        const dataTable =\n",
              "          await google.colab.kernel.invokeFunction('convertToInteractive',\n",
              "                                                    [key], {});\n",
              "        if (!dataTable) return;\n",
              "\n",
              "        const docLinkHtml = 'Like what you see? Visit the ' +\n",
              "          '<a target=\"_blank\" href=https://colab.research.google.com/notebooks/data_table.ipynb>data table notebook</a>'\n",
              "          + ' to learn more about interactive tables.';\n",
              "        element.innerHTML = '';\n",
              "        dataTable['output_type'] = 'display_data';\n",
              "        await google.colab.output.renderOutput(dataTable, element);\n",
              "        const docLink = document.createElement('div');\n",
              "        docLink.innerHTML = docLinkHtml;\n",
              "        element.appendChild(docLink);\n",
              "      }\n",
              "    </script>\n",
              "  </div>\n",
              "\n",
              "\n",
              "<div id=\"df-bc12df14-ceda-4a75-a30c-13db445dab42\">\n",
              "  <button class=\"colab-df-quickchart\" onclick=\"quickchart('df-bc12df14-ceda-4a75-a30c-13db445dab42')\"\n",
              "            title=\"Suggest charts\"\n",
              "            style=\"display:none;\">\n",
              "\n",
              "<svg xmlns=\"http://www.w3.org/2000/svg\" height=\"24px\"viewBox=\"0 0 24 24\"\n",
              "     width=\"24px\">\n",
              "    <g>\n",
              "        <path d=\"M19 3H5c-1.1 0-2 .9-2 2v14c0 1.1.9 2 2 2h14c1.1 0 2-.9 2-2V5c0-1.1-.9-2-2-2zM9 17H7v-7h2v7zm4 0h-2V7h2v10zm4 0h-2v-4h2v4z\"/>\n",
              "    </g>\n",
              "</svg>\n",
              "  </button>\n",
              "\n",
              "<style>\n",
              "  .colab-df-quickchart {\n",
              "      --bg-color: #E8F0FE;\n",
              "      --fill-color: #1967D2;\n",
              "      --hover-bg-color: #E2EBFA;\n",
              "      --hover-fill-color: #174EA6;\n",
              "      --disabled-fill-color: #AAA;\n",
              "      --disabled-bg-color: #DDD;\n",
              "  }\n",
              "\n",
              "  [theme=dark] .colab-df-quickchart {\n",
              "      --bg-color: #3B4455;\n",
              "      --fill-color: #D2E3FC;\n",
              "      --hover-bg-color: #434B5C;\n",
              "      --hover-fill-color: #FFFFFF;\n",
              "      --disabled-bg-color: #3B4455;\n",
              "      --disabled-fill-color: #666;\n",
              "  }\n",
              "\n",
              "  .colab-df-quickchart {\n",
              "    background-color: var(--bg-color);\n",
              "    border: none;\n",
              "    border-radius: 50%;\n",
              "    cursor: pointer;\n",
              "    display: none;\n",
              "    fill: var(--fill-color);\n",
              "    height: 32px;\n",
              "    padding: 0;\n",
              "    width: 32px;\n",
              "  }\n",
              "\n",
              "  .colab-df-quickchart:hover {\n",
              "    background-color: var(--hover-bg-color);\n",
              "    box-shadow: 0 1px 2px rgba(60, 64, 67, 0.3), 0 1px 3px 1px rgba(60, 64, 67, 0.15);\n",
              "    fill: var(--button-hover-fill-color);\n",
              "  }\n",
              "\n",
              "  .colab-df-quickchart-complete:disabled,\n",
              "  .colab-df-quickchart-complete:disabled:hover {\n",
              "    background-color: var(--disabled-bg-color);\n",
              "    fill: var(--disabled-fill-color);\n",
              "    box-shadow: none;\n",
              "  }\n",
              "\n",
              "  .colab-df-spinner {\n",
              "    border: 2px solid var(--fill-color);\n",
              "    border-color: transparent;\n",
              "    border-bottom-color: var(--fill-color);\n",
              "    animation:\n",
              "      spin 1s steps(1) infinite;\n",
              "  }\n",
              "\n",
              "  @keyframes spin {\n",
              "    0% {\n",
              "      border-color: transparent;\n",
              "      border-bottom-color: var(--fill-color);\n",
              "      border-left-color: var(--fill-color);\n",
              "    }\n",
              "    20% {\n",
              "      border-color: transparent;\n",
              "      border-left-color: var(--fill-color);\n",
              "      border-top-color: var(--fill-color);\n",
              "    }\n",
              "    30% {\n",
              "      border-color: transparent;\n",
              "      border-left-color: var(--fill-color);\n",
              "      border-top-color: var(--fill-color);\n",
              "      border-right-color: var(--fill-color);\n",
              "    }\n",
              "    40% {\n",
              "      border-color: transparent;\n",
              "      border-right-color: var(--fill-color);\n",
              "      border-top-color: var(--fill-color);\n",
              "    }\n",
              "    60% {\n",
              "      border-color: transparent;\n",
              "      border-right-color: var(--fill-color);\n",
              "    }\n",
              "    80% {\n",
              "      border-color: transparent;\n",
              "      border-right-color: var(--fill-color);\n",
              "      border-bottom-color: var(--fill-color);\n",
              "    }\n",
              "    90% {\n",
              "      border-color: transparent;\n",
              "      border-bottom-color: var(--fill-color);\n",
              "    }\n",
              "  }\n",
              "</style>\n",
              "\n",
              "  <script>\n",
              "    async function quickchart(key) {\n",
              "      const quickchartButtonEl =\n",
              "        document.querySelector('#' + key + ' button');\n",
              "      quickchartButtonEl.disabled = true;  // To prevent multiple clicks.\n",
              "      quickchartButtonEl.classList.add('colab-df-spinner');\n",
              "      try {\n",
              "        const charts = await google.colab.kernel.invokeFunction(\n",
              "            'suggestCharts', [key], {});\n",
              "      } catch (error) {\n",
              "        console.error('Error during call to suggestCharts:', error);\n",
              "      }\n",
              "      quickchartButtonEl.classList.remove('colab-df-spinner');\n",
              "      quickchartButtonEl.classList.add('colab-df-quickchart-complete');\n",
              "    }\n",
              "    (() => {\n",
              "      let quickchartButtonEl =\n",
              "        document.querySelector('#df-bc12df14-ceda-4a75-a30c-13db445dab42 button');\n",
              "      quickchartButtonEl.style.display =\n",
              "        google.colab.kernel.accessAllowed ? 'block' : 'none';\n",
              "    })();\n",
              "  </script>\n",
              "</div>\n",
              "\n",
              "    </div>\n",
              "  </div>\n"
            ],
            "application/vnd.google.colaboratory.intrinsic+json": {
              "type": "dataframe",
              "variable_name": "df",
              "summary": "{\n  \"name\": \"df\",\n  \"rows\": 5250,\n  \"fields\": [\n    {\n      \"column\": \"Booking_ID\",\n      \"properties\": {\n        \"dtype\": \"string\",\n        \"num_unique_values\": 5100,\n        \"samples\": [\n          \"BKG04410\",\n          \"BKG03161\",\n          \"BKG04516\"\n        ],\n        \"semantic_type\": \"\",\n        \"description\": \"\"\n      }\n    },\n    {\n      \"column\": \"Customer_ID\",\n      \"properties\": {\n        \"dtype\": \"string\",\n        \"num_unique_values\": 4118,\n        \"samples\": [\n          \"CUST2498\",\n          \"CUST8004\",\n          \"CUST6354\"\n        ],\n        \"semantic_type\": \"\",\n        \"description\": \"\"\n      }\n    },\n    {\n      \"column\": \"Destination\",\n      \"properties\": {\n        \"dtype\": \"category\",\n        \"num_unique_values\": 858,\n        \"samples\": [\n          \"West Jamie\",\n          \"West Laurafort\",\n          \"Hungary\"\n        ],\n        \"semantic_type\": \"\",\n        \"description\": \"\"\n      }\n    },\n    {\n      \"column\": \"Travel_Dates\",\n      \"properties\": {\n        \"dtype\": \"string\",\n        \"num_unique_values\": 5013,\n        \"samples\": [\n          \"2023/09/19 / 2025/04/13\",\n          \"2023-10-26 - 2025-03-19\",\n          \"2023-12-29 - 2024-11-20\"\n        ],\n        \"semantic_type\": \"\",\n        \"description\": \"\"\n      }\n    },\n    {\n      \"column\": \"Booking_Date\",\n      \"properties\": {\n        \"dtype\": \"date\",\n        \"min\": \"2022-08-20 00:00:00\",\n        \"max\": \"2024-08-19 00:00:00\",\n        \"num_unique_values\": 731,\n        \"samples\": [\n          \"2022-12-23 00:00:00\",\n          \"2024-07-03 00:00:00\",\n          \"2022-11-24 00:00:00\"\n        ],\n        \"semantic_type\": \"\",\n        \"description\": \"\"\n      }\n    },\n    {\n      \"column\": \"Number_of_Travelers\",\n      \"properties\": {\n        \"dtype\": \"number\",\n        \"std\": 2.4915853697745103,\n        \"min\": 1.0,\n        \"max\": 10.0,\n        \"num_unique_values\": 10,\n        \"samples\": [\n          7.0,\n          2.0,\n          9.0\n        ],\n        \"semantic_type\": \"\",\n        \"description\": \"\"\n      }\n    },\n    {\n      \"column\": \"Travel_Package\",\n      \"properties\": {\n        \"dtype\": \"category\",\n        \"num_unique_values\": 3,\n        \"samples\": [\n          \"Premium\",\n          \"Standard\",\n          \"Luxury\"\n        ],\n        \"semantic_type\": \"\",\n        \"description\": \"\"\n      }\n    },\n    {\n      \"column\": \"Payment_Method\",\n      \"properties\": {\n        \"dtype\": \"category\",\n        \"num_unique_values\": 4,\n        \"samples\": [\n          \"Credit Card\",\n          \"Bank Transfer\",\n          \"Debit Card\"\n        ],\n        \"semantic_type\": \"\",\n        \"description\": \"\"\n      }\n    },\n    {\n      \"column\": \"Total_Cost\",\n      \"properties\": {\n        \"dtype\": \"number\",\n        \"std\": 27720.30432779792,\n        \"min\": 5010.98,\n        \"max\": 99979.71,\n        \"num_unique_values\": 4841,\n        \"samples\": [\n          22171.87,\n          7710.43,\n          85398.74\n        ],\n        \"semantic_type\": \"\",\n        \"description\": \"\"\n      }\n    },\n    {\n      \"column\": \"Travel_Agent\",\n      \"properties\": {\n        \"dtype\": \"string\",\n        \"num_unique_values\": 4010,\n        \"samples\": [\n          \"Johns-Campos\",\n          \"Walsh, Cross and Davies\",\n          \"Williamson PLC\"\n        ],\n        \"semantic_type\": \"\",\n        \"description\": \"\"\n      }\n    },\n    {\n      \"column\": \"Customer_Feedback\",\n      \"properties\": {\n        \"dtype\": \"category\",\n        \"num_unique_values\": 2572,\n        \"samples\": [\n          \"Spend share book soon. Begin draw Congress level. Nation compare recent buy south early.\",\n          \"Entire hundred boy property him change any. Likely purpose consumer decade.\",\n          \"Leave challenge agreement say mission. Raise question last discuss girl.\"\n        ],\n        \"semantic_type\": \"\",\n        \"description\": \"\"\n      }\n    }\n  ]\n}"
            }
          },
          "metadata": {},
          "execution_count": 3
        }
      ]
    },
    {
      "cell_type": "code",
      "source": [
        "print(df.columns)"
      ],
      "metadata": {
        "colab": {
          "base_uri": "https://localhost:8080/"
        },
        "id": "2OjGc5Ws1qNW",
        "outputId": "f6ea2cc0-0508-40e3-9f3b-b582b7bb4d22"
      },
      "execution_count": null,
      "outputs": [
        {
          "output_type": "stream",
          "name": "stdout",
          "text": [
            "Index(['Booking_ID', 'Customer_ID', 'Destination', 'Travel_Dates',\n",
            "       'Booking_Date', 'Number_of_Travelers', 'Travel_Package',\n",
            "       'Payment_Method', 'Total_Cost', 'Travel_Agent', 'Customer_Feedback'],\n",
            "      dtype='object')\n"
          ]
        }
      ]
    },
    {
      "cell_type": "code",
      "source": [
        "df.columns = df.columns.str.strip()"
      ],
      "metadata": {
        "id": "bT1X0gf61xK3"
      },
      "execution_count": null,
      "outputs": []
    },
    {
      "cell_type": "markdown",
      "source": [
        "WHAT IS THE AVERAGE TOTAL COST OF TRIPS FOR EACH DESTINATION"
      ],
      "metadata": {
        "id": "btOwAv6RzSD7"
      }
    },
    {
      "cell_type": "code",
      "source": [
        "average_cost_per_destination = df.groupby('Destination')['Total_Cost'].mean()\n",
        "print(average_cost_per_destination)"
      ],
      "metadata": {
        "colab": {
          "base_uri": "https://localhost:8080/"
        },
        "id": "kpgeXGDmTl9a",
        "outputId": "98876294-ca35-47da-cee9-5ffddea70e39"
      },
      "execution_count": 18,
      "outputs": [
        {
          "output_type": "stream",
          "name": "stdout",
          "text": [
            "Destination\n",
            "ALBANIA           73664.210000\n",
            "ALEJANDROSHIRE    78168.730000\n",
            "ARUBA              8573.290000\n",
            "Adamsbury         22309.600000\n",
            "Adamsfurt         15705.440000\n",
            "                      ...     \n",
            "Zacharyberg       41751.850000\n",
            "Zambia            20658.930000\n",
            "Zamoramouth       84404.310000\n",
            "Zimbabwe          31329.406667\n",
            "Zimmermantown     59139.600000\n",
            "Name: Total_Cost, Length: 858, dtype: float64\n"
          ]
        }
      ]
    },
    {
      "cell_type": "markdown",
      "source": [
        "WHAT IS THE RANGE OF TRAVEL DATES ? WHAT IS THE MOST COMMON TRAVEL PERIOD ?"
      ],
      "metadata": {
        "id": "Eb2ivUMYadyM"
      }
    },
    {
      "cell_type": "code",
      "source": [
        "import pandas as pd\n",
        "df = pd.read_excel(\"/content/drive/MyDrive/ODD (2).xlsx\")\n",
        "df[[\"Start_Date\", \"End_Date\"]] = df[\"Travel_Dates\"].str.split(\" - \", expand=True).apply(pd.to_datetime, errors=\"coerce\")\n",
        "df = df.dropna(subset=[\"Start_Date\", \"End_Date\"])\n",
        "df[\"Travel_Duration\"] = (df[\"End_Date\"] - df[\"Start_Date\"]).dt.days\n",
        "print(\"Earliest:\", df[\"Start_Date\"].min(), \"\\nLatest:\", df[\"End_Date\"].max(), \"\\nMost Common Period:\", df[\"Travel_Duration\"].mode()[0])"
      ],
      "metadata": {
        "colab": {
          "base_uri": "https://localhost:8080/"
        },
        "id": "gn_Gne-rZQsd",
        "outputId": "34ec7897-7051-4ae4-9433-169189e954c8"
      },
      "execution_count": 2,
      "outputs": [
        {
          "output_type": "stream",
          "name": "stdout",
          "text": [
            "Earliest: 2023-08-20 00:00:00 \n",
            "Latest: 2025-08-19 00:00:00 \n",
            "Most Common Period: 291\n"
          ]
        }
      ]
    },
    {
      "cell_type": "markdown",
      "source": [
        "HOW MANY UNIQUE DESTINATION ARE PRESENT IN THE DATA SET"
      ],
      "metadata": {
        "id": "A3uflXg3UZLx"
      }
    },
    {
      "cell_type": "code",
      "source": [
        "unique_destinations= df[\"Destination\"].nunique()\n",
        "print(\"Number of Unique Destinations:\", unique_destinations)"
      ],
      "metadata": {
        "colab": {
          "base_uri": "https://localhost:8080/"
        },
        "id": "3yufrkUZTpTL",
        "outputId": "d39c1765-9848-491c-c2b6-eb8e6a8e13b9"
      },
      "execution_count": 19,
      "outputs": [
        {
          "output_type": "stream",
          "name": "stdout",
          "text": [
            "Number of Unique Destinations: 858\n"
          ]
        }
      ]
    },
    {
      "cell_type": "markdown",
      "source": [
        "DO ALL DATES FOLLOW A CONSISTENT FORMAT"
      ],
      "metadata": {
        "id": "oJPwMiw8a3BN"
      }
    },
    {
      "cell_type": "code",
      "source": [
        "import pandas as pd\n",
        "import re\n",
        "df = pd.read_excel(\"/content/drive/MyDrive/ODD (2).xlsx\")\n",
        "patterns = {\n",
        "    \"YYYY-MM-DD - YYYY-MM-DD\": re.compile(r\"\\d{4}-\\d{2}-\\d{2} - \\d{4}-\\d{2}-\\d{2}\"),\n",
        "    \"YYYY/MM/DD / YYYY/MM/DD\": re.compile(r\"\\d{4}/\\d{2}/\\d{2} / \\d{4}/\\d{2}/\\d{2}\")\n",
        "}\n",
        "\n",
        "counts = {k: 0 for k in patterns}\n",
        "inconsistent = []\n",
        "\n",
        "for date in df[\"Travel_Dates\"].dropna():\n",
        "    if any(p.fullmatch(date) for p in patterns.values()):\n",
        "        for fmt, p in patterns.items():\n",
        "            if p.fullmatch(date):\n",
        "                counts[fmt] += 1\n",
        "    else:\n",
        "        inconsistent.append(date)\n",
        "print(\"Date Formats:\", counts)\n",
        "if inconsistent:\n",
        "    print(\"\\nInconsistent Dates:\", inconsistent[:10])\n",
        "else:\n",
        "    print(\"\\nAll dates are consistent.\")"
      ],
      "metadata": {
        "colab": {
          "base_uri": "https://localhost:8080/"
        },
        "id": "R0GhX-u8a-oG",
        "outputId": "33bda824-4d5f-4b68-c8c3-caf9526b6d7c"
      },
      "execution_count": 3,
      "outputs": [
        {
          "output_type": "stream",
          "name": "stdout",
          "text": [
            "Date Formats: {'YYYY-MM-DD - YYYY-MM-DD': 4687, 'YYYY/MM/DD / YYYY/MM/DD': 513}\n",
            "\n",
            "All dates are consistent.\n"
          ]
        }
      ]
    },
    {
      "cell_type": "code",
      "source": [
        "ARE OF TRAVELLERS VALUES ARE ALWAYS POSITIVE AND REASONABLE"
      ],
      "metadata": {
        "id": "EP3xzmS6bYXO"
      },
      "execution_count": null,
      "outputs": []
    },
    {
      "cell_type": "markdown",
      "source": [],
      "metadata": {
        "id": "CobTJ39PbP22"
      }
    },
    {
      "cell_type": "code",
      "source": [
        "invalid_travelers = df[(df[\"Number_of_Travelers\"] <= 0) | (df[\"Number_of_Travelers\"] > 100)]\n",
        "\n",
        "if not invalid_travelers.empty:\n",
        "    print(\"Invalid Number_of_Travelers found:\")\n",
        "    print(invalid_travelers)\n",
        "else:\n",
        "    print(\"All traveler numbers are positive and reasonable.\")"
      ],
      "metadata": {
        "colab": {
          "base_uri": "https://localhost:8080/"
        },
        "id": "2SFm5AnpbNN3",
        "outputId": "d9f7e717-ac2f-4622-888f-062e91f376cb"
      },
      "execution_count": 4,
      "outputs": [
        {
          "output_type": "stream",
          "name": "stdout",
          "text": [
            "All traveler numbers are positive and reasonable.\n"
          ]
        }
      ]
    }
  ]
}